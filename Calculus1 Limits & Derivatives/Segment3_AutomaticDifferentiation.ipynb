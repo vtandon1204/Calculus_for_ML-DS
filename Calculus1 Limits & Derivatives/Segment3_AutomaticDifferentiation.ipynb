{
  "nbformat": 4,
  "nbformat_minor": 0,
  "metadata": {
    "colab": {
      "provenance": []
    },
    "kernelspec": {
      "name": "python3",
      "display_name": "Python 3"
    },
    "language_info": {
      "name": "python"
    }
  },
  "cells": [
    {
      "cell_type": "markdown",
      "source": [
        "*Segment 3: Automatic Differentiation*\n",
        "* AutoDiff with PyTorch\n",
        "* AutoDiff with TensorFlow 2\n",
        "* Machine Learning via Differentiation\n",
        "* Cost (or Loss) Functions\n",
        "* The Future: Differentiable Programming"
      ],
      "metadata": {
        "id": "iSYEcI_aMtx1"
      }
    },
    {
      "cell_type": "markdown",
      "source": [
        "---\n",
        "---\n",
        "## **Segment 3: Automatic Differentiation**\n",
        "---"
      ],
      "metadata": {
        "id": "sSzvtwSVMvwv"
      }
    },
    {
      "cell_type": "markdown",
      "source": [
        "**TensorFlow** and **PyTorch** are the two most popular automatic differentiation libraries.\n",
        "\n",
        "Let's use them to calculate $dy/dx$ at $x = 5$ where:\n",
        "$$y = x^2$$\n",
        "$$ \\frac{dy}{dx} = 2x = 2(5) = 10 $$"
      ],
      "metadata": {
        "id": "NzS3IX4CNCWE"
      }
    },
    {
      "cell_type": "markdown",
      "source": [
        "---\n",
        "### **1. AutoDiff with PyTorch**"
      ],
      "metadata": {
        "id": "p8cYgAAPNNO8"
      }
    },
    {
      "cell_type": "code",
      "source": [
        "import torch"
      ],
      "metadata": {
        "id": "_kgp3jq4MrNu"
      },
      "execution_count": 1,
      "outputs": []
    },
    {
      "cell_type": "code",
      "source": [
        "x = torch.tensor(5.0, requires_grad=True)\n",
        "# contagiously track gradients through forward pass\n",
        "y = x ** 2\n",
        "y.backward() # use autodiff\n",
        "x.grad"
      ],
      "metadata": {
        "colab": {
          "base_uri": "https://localhost:8080/"
        },
        "id": "PY5t_8X-NXI5",
        "outputId": "5fc31467-e3bb-4d5a-bb35-7e0179e0ce35"
      },
      "execution_count": 3,
      "outputs": [
        {
          "output_type": "execute_result",
          "data": {
            "text/plain": [
              "tensor(10.)"
            ]
          },
          "metadata": {},
          "execution_count": 3
        }
      ]
    },
    {
      "cell_type": "markdown",
      "source": [
        "---\n",
        "### **2. AutoDiff with TensorFlow**"
      ],
      "metadata": {
        "id": "uV5udZotNgW_"
      }
    },
    {
      "cell_type": "code",
      "source": [
        "import tensorflow as tf"
      ],
      "metadata": {
        "id": "YJBT_yL5Nc3k"
      },
      "execution_count": 5,
      "outputs": []
    },
    {
      "cell_type": "code",
      "source": [
        "x = tf.Variable(5.0)\n",
        "with tf.GradientTape() as tape:\n",
        "  tape.watch(x) # track forward pass\n",
        "  y = x ** 2"
      ],
      "metadata": {
        "id": "W-1Tmn8YNmod"
      },
      "execution_count": 9,
      "outputs": []
    },
    {
      "cell_type": "code",
      "source": [
        "tape.gradient(y, x).numpy() # use autodiff"
      ],
      "metadata": {
        "colab": {
          "base_uri": "https://localhost:8080/"
        },
        "id": "0-EdGIw4Ntdd",
        "outputId": "01abfeb3-8ea1-49c4-96fa-388e1cd6be57"
      },
      "execution_count": 10,
      "outputs": [
        {
          "output_type": "execute_result",
          "data": {
            "text/plain": [
              "10.0"
            ]
          },
          "metadata": {},
          "execution_count": 10
        }
      ]
    }
  ]
}